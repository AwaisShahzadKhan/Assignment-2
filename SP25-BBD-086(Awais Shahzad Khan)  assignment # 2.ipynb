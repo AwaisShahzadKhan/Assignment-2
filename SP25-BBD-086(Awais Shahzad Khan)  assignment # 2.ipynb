{
  "metadata": {
    "kernelspec": {
      "name": "python",
      "display_name": "Python (Pyodide)",
      "language": "python"
    },
    "language_info": {
      "codemirror_mode": {
        "name": "python",
        "version": 3
      },
      "file_extension": ".py",
      "mimetype": "text/x-python",
      "name": "python",
      "nbconvert_exporter": "python",
      "pygments_lexer": "ipython3",
      "version": "3.8"
    }
  },
  "nbformat_minor": 5,
  "nbformat": 4,
  "cells": [
    {
      "id": "3a98efe8-469e-4d88-bbf9-a095d5662cd1",
      "cell_type": "markdown",
      "source": "# Name= Awais Shahzad Khan\n# Roll No = SP25-BBD-086",
      "metadata": {}
    },
    {
      "id": "b56bb4af-6793-4368-a6e8-112d0335372f",
      "cell_type": "code",
      "source": "#Question No#1\nnumber = int(input(\"Enter the Number :\"))\nnumber = 15\nif number >= 15:\n    print(\"The number is Positive\")\nelif number <= 15:\n    print(\"The number is Zero\")\nelse:\n    print(\"The number is Negative\")",
      "metadata": {
        "trusted": true
      },
      "outputs": [],
      "execution_count": null
    },
    {
      "id": "655c3f9e-b552-474d-a16d-1d0c007edc1f",
      "cell_type": "code",
      "source": "#Question No#2\nyear = int(input(\"Enter the Year\"))\nyear = 2025\nif year == 2025:\n    print(\"2025 is the Leap Year\")\nelse:\n    print(\"2025 is not the Leap Year\")",
      "metadata": {},
      "outputs": [
        {
          "name": "stdin",
          "output_type": "stream",
          "text": "Enter the Year 2024\n"
        },
        {
          "name": "stdout",
          "output_type": "stream",
          "text": "2025 is the Leap Year\n"
        }
      ],
      "execution_count": 2
    },
    {
      "id": "dd57bf88-4e8f-4f5c-a793-f5000e312461",
      "cell_type": "code",
      "source": "#Question No#3\na = int(input(\"First Number: \"))\nb = int(input(\"Second Number: \"))\nop = input(\"Operator (+,-,*,/) \")\nif op == '+':\n    print(a + b)\nelif op == '-':\n    print(a - b)\nelif op == '*':\n    print(a * b)\nelse:\n    print(a / b)",
      "metadata": {},
      "outputs": [
        {
          "name": "stdin",
          "output_type": "stream",
          "text": "First Number:  1\n,Second Number:  1\n,Operator (+,-,*,/)  +\n"
        },
        {
          "name": "stdout",
          "output_type": "stream",
          "text": "2\n"
        }
      ],
      "execution_count": 3
    },
    {
      "id": "8c86e298-0135-44d2-b0d5-457b29aeed11",
      "cell_type": "code",
      "source": "#Question No#4\nmarks=float(input(\"Enter Student Marks: \"))\nif marks >= 85:\n    print(\"Grade: A\")\nelif score >= 70:\n    print(\"Grade: B\")\nelif score >= 50:\n    print(\"Grade: C\")\nelse:\n    print(\"Grade: F\")",
      "metadata": {
        "trusted": true
      },
      "outputs": [],
      "execution_count": null
    },
    {
      "id": "e852a72d-1cb1-47be-a8a6-982c394d85f0",
      "cell_type": "code",
      "source": "#Question No#5\nage=int(input(\"Enter your Age\"))\nincome=int(input(\"Enter your income\"))\nif age >= 21 and income > 25000:\n  print(\"Eligible for membership.\")\nelse:\n  print(\"Not eligible.\")",
      "metadata": {},
      "outputs": [
        {
          "name": "stdin",
          "output_type": "stream",
          "text": "Enter your Age 20\n,Enter your income 20000\n"
        },
        {
          "name": "stdout",
          "output_type": "stream",
          "text": "Not eligible.\n"
        }
      ],
      "execution_count": 4
    },
    {
      "id": "8ade4ca8-5648-42d8-ae39-b8a2e254d61b",
      "cell_type": "code",
      "source": "#Question No#6\nnum = int(input(\"Enter a number: \"))\nif num % 3 == 0 and num % 5 == 0:\n    print(\"FizzBuzz.\")\nelif num % 3 == 0:\n    print(\"Fizz.\")\nelif num % 5 == 0:\n    print(\"Buzz.\")\nelse:\n    print(num)",
      "metadata": {},
      "outputs": [
        {
          "name": "stdin",
          "output_type": "stream",
          "text": "Enter a number:  3\n"
        },
        {
          "name": "stdout",
          "output_type": "stream",
          "text": "Fizz.\n"
        }
      ],
      "execution_count": 5
    },
    {
      "id": "5c2d19ab-50c7-4cb6-842f-e4381bdee160",
      "cell_type": "code",
      "source": "#Question No#7\nchar = input(\"Enter a character: \").lower()\nif len(char) != 1:\n    print(\"Enter only one character.\")\nelse:\n    if char.isalpha():\n        if char in 'aeiou':\n            print(\"Vowel\")\n        else:\n            print(\"Consonant\")\n    elif char.isdigit():\n        print(\"Digit\")\n    else:\n        print(\"Special character\")",
      "metadata": {},
      "outputs": [
        {
          "name": "stdin",
          "output_type": "stream",
          "text": "Enter a character:  2\n"
        },
        {
          "name": "stdout",
          "output_type": "stream",
          "text": "Digit\n"
        }
      ],
      "execution_count": 6
    },
    {
      "id": "3dbd8519-3046-473d-bdb2-cb3a2d8abc91",
      "cell_type": "code",
      "source": "#Question No#8\nday = input(\"Enter the current day: \").strip().lower()\nif day == \"saturday\" or day == \"sunday\":\n    print(\"Enjoy your weekend!\")\nelse:\n    print(\"Time to work!\")",
      "metadata": {},
      "outputs": [
        {
          "name": "stdin",
          "output_type": "stream",
          "text": "Enter the current day:  monday\n"
        },
        {
          "name": "stdout",
          "output_type": "stream",
          "text": "Time to work!\n"
        }
      ],
      "execution_count": 7
    },
    {
      "id": "0aa0c1b1-6726-4c85-a24b-8c62c4edfdae",
      "cell_type": "code",
      "source": "#Question No#9\nyears = int(input(\"Years of service: \"))\nsalary = float(input(\"Current salary: \"))\nif years >= 10:\n    bonus = salary * 0.20\nelif years >= 5:\n    bonus = salary * 0.10\nelse:\n    bonus = salary * 0.05\n\nprint(\"Bonus amount:\", bonus)",
      "metadata": {},
      "outputs": [
        {
          "name": "stdin",
          "output_type": "stream",
          "text": "Years of service:  6\n,Current salary:  0.10\n"
        },
        {
          "name": "stdout",
          "output_type": "stream",
          "text": "Bonus amount: 0.010000000000000002\n"
        }
      ],
      "execution_count": 8
    },
    {
      "id": "c03154f8-3e32-4ead-b684-a114e4c04cb1",
      "cell_type": "code",
      "source": "#Question No#10\nnum = int(input(\"Enter a number: \"))\nif num > 0:\n    print(\"Positive\")\n    if num % 2 == 0:\n        print(\"Even\")\n    else:\n        print(\"Odd\")\nelif num < 0:\n    print(\"Negative\")\nelse:\n    print(\"Zero\")\n     ",
      "metadata": {},
      "outputs": [
        {
          "name": "stdin",
          "output_type": "stream",
          "text": "Enter a number:  2\n"
        },
        {
          "name": "stdout",
          "output_type": "stream",
          "text": "Positive\n,Even\n"
        }
      ],
      "execution_count": 9
    }
  ]
}